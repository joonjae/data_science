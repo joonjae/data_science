{
 "cells": [
  {
   "attachments": {},
   "cell_type": "markdown",
   "id": "b11661c6",
   "metadata": {},
   "source": [
    "# Elección de Datasets potenciales\n",
    "\n",
    "Identificar 3 datasets que cumplan con las siguientes condiciones: \n",
    "1. al menos 2000 filas y \n",
    "2. al menos 15 columnas. \n",
    "\n",
    "Pueden buscar en las siguientes fuentes: GitLab, Github, Kaggle, Google Dataset Search (Si desean trabajar con un archivo propio se puede también).\n",
    "Algunas API recomendadas para obtener información: Marvel,PokeApi,CovidTracking,Nomics (Criptomonedas),Wheater API\n",
    "\n",
    "Cargar los archivos correspondientes por medio de la librería pandas.<br />\n",
    "Describir las variables potencialmente interesantes en cada archivo teniendo en cuenta el contexto comercial y analítico involucrado"
   ]
  },
  {
   "cell_type": "code",
   "execution_count": 2,
   "id": "7a5dc923",
   "metadata": {},
   "outputs": [],
   "source": [
    "import pandas as pd\n",
    "import numpy as np"
   ]
  },
  {
   "cell_type": "code",
   "execution_count": 3,
   "id": "963be7a1",
   "metadata": {},
   "outputs": [],
   "source": [
    "url1 = \"https://raw.githubusercontent.com/dphi-official/Datasets/master/Census_Income/Training_set_census.csv\"\n",
    "url2 = \"https://raw.githubusercontent.com/dphi-official/Datasets/master/IT_Salary_Survey_EU_18-20/Survey_2020.csv\"\n",
    "url3 = \"https://raw.githubusercontent.com/dphi-official/Datasets/master/Chronic%20Kidney%20Disease%20(CKD)%20Dataset/ChronicKidneyDisease.csv\""
   ]
  },
  {
   "attachments": {},
   "cell_type": "markdown",
   "id": "37950714",
   "metadata": {},
   "source": [
    "### URLs selection reasons \n",
    "The most important reasons to be select those urls are to be achive the requirements. However, I have some another reasons to be selected it.<br />\n",
    "The first *url1* is just to fullfil what's demand. The second *url2* it is chosen because I feel that it could be interesting study IT salaries at the pandemic era, provocated by COVID-19 virus. The last **url3** it is specialy selected because I would like to study a little bit about **CKD** (Chronic Kidney Disease) for my mother situation."
   ]
  },
  {
   "cell_type": "code",
   "execution_count": 4,
   "id": "25258483",
   "metadata": {},
   "outputs": [],
   "source": [
    "import time # to compute execution time"
   ]
  },
  {
   "cell_type": "code",
   "execution_count": 5,
   "id": "784bc219",
   "metadata": {},
   "outputs": [
    {
     "name": "stdout",
     "output_type": "stream",
     "text": [
      "Load time URL1 2.5770702362060547\n"
     ]
    }
   ],
   "source": [
    "start = time.time()\n",
    "census_income = pd.read_csv(url1)\n",
    "print(\"Load time URL1\",time.time() - start)"
   ]
  },
  {
   "cell_type": "code",
   "execution_count": 6,
   "id": "3eb02c38",
   "metadata": {},
   "outputs": [
    {
     "name": "stdout",
     "output_type": "stream",
     "text": [
      "Load time URL2 0.4585413932800293\n"
     ]
    }
   ],
   "source": [
    "start = time.time()\n",
    "it_salary_2020 = pd.read_csv(url2)\n",
    "print(\"Load time URL2\",time.time() - start)"
   ]
  },
  {
   "cell_type": "code",
   "execution_count": 7,
   "id": "492c2b24",
   "metadata": {},
   "outputs": [
    {
     "name": "stdout",
     "output_type": "stream",
     "text": [
      "Load time URL3 0.549464225769043\n"
     ]
    }
   ],
   "source": [
    "start = time.time()\n",
    "csk = pd.read_csv(url3)\n",
    "print(\"Load time URL3\",time.time() - start)"
   ]
  },
  {
   "attachments": {},
   "cell_type": "markdown",
   "id": "fc68962f",
   "metadata": {},
   "source": [
    "### Print infos\n",
    "Printing data set informations."
   ]
  },
  {
   "cell_type": "code",
   "execution_count": 8,
   "id": "bff57288",
   "metadata": {},
   "outputs": [
    {
     "name": "stdout",
     "output_type": "stream",
     "text": [
      "<class 'pandas.core.frame.DataFrame'>\n",
      "RangeIndex: 200000 entries, 0 to 199999\n",
      "Data columns (total 41 columns):\n",
      " #   Column                            Non-Null Count   Dtype \n",
      "---  ------                            --------------   ----- \n",
      " 0   age                               200000 non-null  int64 \n",
      " 1   class_of_worker                   200000 non-null  object\n",
      " 2   industry_code                     200000 non-null  int64 \n",
      " 3   occupation_code                   200000 non-null  int64 \n",
      " 4   education                         200000 non-null  object\n",
      " 5   wage_per_hour                     200000 non-null  int64 \n",
      " 6   enrolled_in_edu_inst_lastwk       200000 non-null  object\n",
      " 7   marital_status                    200000 non-null  object\n",
      " 8   major_industry_code               200000 non-null  object\n",
      " 9   major_occupation_code             200000 non-null  object\n",
      " 10  race                              200000 non-null  object\n",
      " 11  hispanic_origin                   199408 non-null  object\n",
      " 12  sex                               200000 non-null  object\n",
      " 13  member_of_labor_union             200000 non-null  object\n",
      " 14  reason_for_unemployment           200000 non-null  object\n",
      " 15  full_parttime_employment_stat     200000 non-null  object\n",
      " 16  capital_gains                     200000 non-null  int64 \n",
      " 17  capital_losses                    200000 non-null  int64 \n",
      " 18  dividend_from_Stocks              200000 non-null  int64 \n",
      " 19  tax_filer_status                  200000 non-null  object\n",
      " 20  region_of_previous_residence      200000 non-null  object\n",
      " 21  state_of_previous_residence       199523 non-null  object\n",
      " 22  d_household_family_stat           200000 non-null  object\n",
      " 23  d_household_summary               200000 non-null  object\n",
      " 24  migration_msa                     133327 non-null  object\n",
      " 25  migration_reg                     133327 non-null  object\n",
      " 26  migration_within_reg              133327 non-null  object\n",
      " 27  live_1_year_ago                   200000 non-null  object\n",
      " 28  migration_sunbelt                 133327 non-null  object\n",
      " 29  num_person_Worked_employer        200000 non-null  int64 \n",
      " 30  family_members_under_18           200000 non-null  object\n",
      " 31  country_father                    195478 non-null  object\n",
      " 32  country_mother                    195864 non-null  object\n",
      " 33  country_self                      197688 non-null  object\n",
      " 34  citizenship                       200000 non-null  object\n",
      " 35  business_or_self_employed         200000 non-null  int64 \n",
      " 36  fill_questionnaire_veteran_admin  200000 non-null  object\n",
      " 37  veterans_benefits                 200000 non-null  int64 \n",
      " 38  weeks_worked_in_year              200000 non-null  int64 \n",
      " 39  year                              200000 non-null  int64 \n",
      " 40  income_level                      200000 non-null  int64 \n",
      "dtypes: int64(13), object(28)\n",
      "memory usage: 62.6+ MB\n"
     ]
    }
   ],
   "source": [
    "census_income.info()"
   ]
  },
  {
   "cell_type": "code",
   "execution_count": 9,
   "id": "627d17a7",
   "metadata": {},
   "outputs": [
    {
     "name": "stdout",
     "output_type": "stream",
     "text": [
      "<class 'pandas.core.frame.DataFrame'>\n",
      "RangeIndex: 1253 entries, 0 to 1252\n",
      "Data columns (total 23 columns):\n",
      " #   Column                                                                                                                   Non-Null Count  Dtype  \n",
      "---  ------                                                                                                                   --------------  -----  \n",
      " 0   Timestamp                                                                                                                1253 non-null   object \n",
      " 1   Age                                                                                                                      1226 non-null   float64\n",
      " 2   Gender                                                                                                                   1243 non-null   object \n",
      " 3   City                                                                                                                     1253 non-null   object \n",
      " 4   Position                                                                                                                 1247 non-null   object \n",
      " 5   Total years of experience                                                                                                1237 non-null   object \n",
      " 6   Years of experience in Germany                                                                                           1221 non-null   object \n",
      " 7   Seniority level                                                                                                          1241 non-null   object \n",
      " 8   Your main technology / programming language                                                                              1126 non-null   object \n",
      " 9   Other technologies/programming languages you use often                                                                   1096 non-null   object \n",
      " 10  Yearly brutto salary (without bonus and stocks) in EUR                                                                   1253 non-null   float64\n",
      " 11  Yearly bonus + stocks in EUR                                                                                             829 non-null    object \n",
      " 12  Annual brutto salary (without bonus and stocks) one year ago. Only answer if staying in the same country                 885 non-null    float64\n",
      " 13  Annual bonus+stocks one year ago. Only answer if staying in same country                                                 614 non-null    object \n",
      " 14  Number of vacation days                                                                                                  1185 non-null   object \n",
      " 15  Employment status                                                                                                        1236 non-null   object \n",
      " 16  Сontract duration                                                                                                        1224 non-null   object \n",
      " 17  Main language at work                                                                                                    1237 non-null   object \n",
      " 18  Company size                                                                                                             1235 non-null   object \n",
      " 19  Company type                                                                                                             1228 non-null   object \n",
      " 20  Have you lost your job due to the coronavirus outbreak?                                                                  1233 non-null   object \n",
      " 21  Have you been forced to have a shorter working week (Kurzarbeit)? If yes, how many hours per week                        373 non-null    float64\n",
      " 22  Have you received additional monetary support from your employer due to Work From Home? If yes, how much in 2020 in EUR  462 non-null    object \n",
      "dtypes: float64(4), object(19)\n",
      "memory usage: 225.3+ KB\n"
     ]
    }
   ],
   "source": [
    "it_salary_2020.info()"
   ]
  },
  {
   "cell_type": "code",
   "execution_count": 10,
   "id": "984ecbfd",
   "metadata": {},
   "outputs": [
    {
     "name": "stdout",
     "output_type": "stream",
     "text": [
      "<class 'pandas.core.frame.DataFrame'>\n",
      "RangeIndex: 400 entries, 0 to 399\n",
      "Data columns (total 26 columns):\n",
      " #   Column          Non-Null Count  Dtype  \n",
      "---  ------          --------------  -----  \n",
      " 0   id              400 non-null    int64  \n",
      " 1   age             391 non-null    float64\n",
      " 2   bp              388 non-null    float64\n",
      " 3   sg              353 non-null    float64\n",
      " 4   al              354 non-null    float64\n",
      " 5   su              351 non-null    float64\n",
      " 6   rbc             248 non-null    object \n",
      " 7   pc              335 non-null    object \n",
      " 8   pcc             396 non-null    object \n",
      " 9   ba              396 non-null    object \n",
      " 10  bgr             356 non-null    float64\n",
      " 11  bu              381 non-null    float64\n",
      " 12  sc              383 non-null    float64\n",
      " 13  sod             313 non-null    float64\n",
      " 14  pot             312 non-null    float64\n",
      " 15  hemo            348 non-null    float64\n",
      " 16  pcv             330 non-null    object \n",
      " 17  wc              295 non-null    object \n",
      " 18  rc              270 non-null    object \n",
      " 19  htn             398 non-null    object \n",
      " 20  dm              398 non-null    object \n",
      " 21  cad             398 non-null    object \n",
      " 22  appet           399 non-null    object \n",
      " 23  pe              399 non-null    object \n",
      " 24  ane             399 non-null    object \n",
      " 25  classification  400 non-null    object \n",
      "dtypes: float64(11), int64(1), object(14)\n",
      "memory usage: 81.4+ KB\n"
     ]
    }
   ],
   "source": [
    "csk.info()"
   ]
  },
  {
   "attachments": {},
   "cell_type": "markdown",
   "id": "708dc9bf",
   "metadata": {},
   "source": [
    "### Describe Datasets\n",
    "Print dataset descriptions"
   ]
  },
  {
   "cell_type": "code",
   "execution_count": 11,
   "id": "4140cfde",
   "metadata": {},
   "outputs": [
    {
     "data": {
      "text/html": [
       "<div>\n",
       "<style scoped>\n",
       "    .dataframe tbody tr th:only-of-type {\n",
       "        vertical-align: middle;\n",
       "    }\n",
       "\n",
       "    .dataframe tbody tr th {\n",
       "        vertical-align: top;\n",
       "    }\n",
       "\n",
       "    .dataframe thead th {\n",
       "        text-align: right;\n",
       "    }\n",
       "</style>\n",
       "<table border=\"1\" class=\"dataframe\">\n",
       "  <thead>\n",
       "    <tr style=\"text-align: right;\">\n",
       "      <th></th>\n",
       "      <th>age</th>\n",
       "      <th>industry_code</th>\n",
       "      <th>occupation_code</th>\n",
       "      <th>wage_per_hour</th>\n",
       "      <th>capital_gains</th>\n",
       "      <th>capital_losses</th>\n",
       "      <th>dividend_from_Stocks</th>\n",
       "      <th>num_person_Worked_employer</th>\n",
       "      <th>business_or_self_employed</th>\n",
       "      <th>veterans_benefits</th>\n",
       "      <th>weeks_worked_in_year</th>\n",
       "      <th>year</th>\n",
       "      <th>income_level</th>\n",
       "    </tr>\n",
       "  </thead>\n",
       "  <tbody>\n",
       "    <tr>\n",
       "      <th>count</th>\n",
       "      <td>200000.000000</td>\n",
       "      <td>200000.000000</td>\n",
       "      <td>200000.000000</td>\n",
       "      <td>200000.000000</td>\n",
       "      <td>200000.000000</td>\n",
       "      <td>200000.000000</td>\n",
       "      <td>200000.000000</td>\n",
       "      <td>200000.000000</td>\n",
       "      <td>200000.000000</td>\n",
       "      <td>200000.000000</td>\n",
       "      <td>200000.000000</td>\n",
       "      <td>200000.000000</td>\n",
       "      <td>200000.000000</td>\n",
       "    </tr>\n",
       "    <tr>\n",
       "      <th>mean</th>\n",
       "      <td>34.662495</td>\n",
       "      <td>15.564830</td>\n",
       "      <td>11.326325</td>\n",
       "      <td>54.835700</td>\n",
       "      <td>493.561580</td>\n",
       "      <td>38.921275</td>\n",
       "      <td>212.977630</td>\n",
       "      <td>1.983780</td>\n",
       "      <td>0.177995</td>\n",
       "      <td>1.522860</td>\n",
       "      <td>23.541820</td>\n",
       "      <td>94.499800</td>\n",
       "      <td>0.074360</td>\n",
       "    </tr>\n",
       "    <tr>\n",
       "      <th>std</th>\n",
       "      <td>22.225765</td>\n",
       "      <td>18.104961</td>\n",
       "      <td>14.424809</td>\n",
       "      <td>272.034681</td>\n",
       "      <td>5109.900136</td>\n",
       "      <td>277.867944</td>\n",
       "      <td>2062.591247</td>\n",
       "      <td>2.372892</td>\n",
       "      <td>0.557014</td>\n",
       "      <td>0.846346</td>\n",
       "      <td>24.447497</td>\n",
       "      <td>0.500001</td>\n",
       "      <td>0.262357</td>\n",
       "    </tr>\n",
       "    <tr>\n",
       "      <th>min</th>\n",
       "      <td>0.000000</td>\n",
       "      <td>0.000000</td>\n",
       "      <td>0.000000</td>\n",
       "      <td>0.000000</td>\n",
       "      <td>0.000000</td>\n",
       "      <td>0.000000</td>\n",
       "      <td>0.000000</td>\n",
       "      <td>0.000000</td>\n",
       "      <td>0.000000</td>\n",
       "      <td>0.000000</td>\n",
       "      <td>0.000000</td>\n",
       "      <td>94.000000</td>\n",
       "      <td>0.000000</td>\n",
       "    </tr>\n",
       "    <tr>\n",
       "      <th>25%</th>\n",
       "      <td>16.000000</td>\n",
       "      <td>0.000000</td>\n",
       "      <td>0.000000</td>\n",
       "      <td>0.000000</td>\n",
       "      <td>0.000000</td>\n",
       "      <td>0.000000</td>\n",
       "      <td>0.000000</td>\n",
       "      <td>0.000000</td>\n",
       "      <td>0.000000</td>\n",
       "      <td>2.000000</td>\n",
       "      <td>0.000000</td>\n",
       "      <td>94.000000</td>\n",
       "      <td>0.000000</td>\n",
       "    </tr>\n",
       "    <tr>\n",
       "      <th>50%</th>\n",
       "      <td>33.000000</td>\n",
       "      <td>1.000000</td>\n",
       "      <td>1.000000</td>\n",
       "      <td>0.000000</td>\n",
       "      <td>0.000000</td>\n",
       "      <td>0.000000</td>\n",
       "      <td>0.000000</td>\n",
       "      <td>1.000000</td>\n",
       "      <td>0.000000</td>\n",
       "      <td>2.000000</td>\n",
       "      <td>10.000000</td>\n",
       "      <td>94.000000</td>\n",
       "      <td>0.000000</td>\n",
       "    </tr>\n",
       "    <tr>\n",
       "      <th>75%</th>\n",
       "      <td>50.000000</td>\n",
       "      <td>33.000000</td>\n",
       "      <td>26.000000</td>\n",
       "      <td>0.000000</td>\n",
       "      <td>0.000000</td>\n",
       "      <td>0.000000</td>\n",
       "      <td>0.000000</td>\n",
       "      <td>4.000000</td>\n",
       "      <td>0.000000</td>\n",
       "      <td>2.000000</td>\n",
       "      <td>52.000000</td>\n",
       "      <td>95.000000</td>\n",
       "      <td>0.000000</td>\n",
       "    </tr>\n",
       "    <tr>\n",
       "      <th>max</th>\n",
       "      <td>90.000000</td>\n",
       "      <td>51.000000</td>\n",
       "      <td>46.000000</td>\n",
       "      <td>9999.000000</td>\n",
       "      <td>99999.000000</td>\n",
       "      <td>4608.000000</td>\n",
       "      <td>99999.000000</td>\n",
       "      <td>6.000000</td>\n",
       "      <td>2.000000</td>\n",
       "      <td>2.000000</td>\n",
       "      <td>52.000000</td>\n",
       "      <td>95.000000</td>\n",
       "      <td>1.000000</td>\n",
       "    </tr>\n",
       "  </tbody>\n",
       "</table>\n",
       "</div>"
      ],
      "text/plain": [
       "                 age  industry_code  occupation_code  wage_per_hour  \\\n",
       "count  200000.000000  200000.000000    200000.000000  200000.000000   \n",
       "mean       34.662495      15.564830        11.326325      54.835700   \n",
       "std        22.225765      18.104961        14.424809     272.034681   \n",
       "min         0.000000       0.000000         0.000000       0.000000   \n",
       "25%        16.000000       0.000000         0.000000       0.000000   \n",
       "50%        33.000000       1.000000         1.000000       0.000000   \n",
       "75%        50.000000      33.000000        26.000000       0.000000   \n",
       "max        90.000000      51.000000        46.000000    9999.000000   \n",
       "\n",
       "       capital_gains  capital_losses  dividend_from_Stocks  \\\n",
       "count  200000.000000   200000.000000         200000.000000   \n",
       "mean      493.561580       38.921275            212.977630   \n",
       "std      5109.900136      277.867944           2062.591247   \n",
       "min         0.000000        0.000000              0.000000   \n",
       "25%         0.000000        0.000000              0.000000   \n",
       "50%         0.000000        0.000000              0.000000   \n",
       "75%         0.000000        0.000000              0.000000   \n",
       "max     99999.000000     4608.000000          99999.000000   \n",
       "\n",
       "       num_person_Worked_employer  business_or_self_employed  \\\n",
       "count               200000.000000              200000.000000   \n",
       "mean                     1.983780                   0.177995   \n",
       "std                      2.372892                   0.557014   \n",
       "min                      0.000000                   0.000000   \n",
       "25%                      0.000000                   0.000000   \n",
       "50%                      1.000000                   0.000000   \n",
       "75%                      4.000000                   0.000000   \n",
       "max                      6.000000                   2.000000   \n",
       "\n",
       "       veterans_benefits  weeks_worked_in_year           year   income_level  \n",
       "count      200000.000000         200000.000000  200000.000000  200000.000000  \n",
       "mean            1.522860             23.541820      94.499800       0.074360  \n",
       "std             0.846346             24.447497       0.500001       0.262357  \n",
       "min             0.000000              0.000000      94.000000       0.000000  \n",
       "25%             2.000000              0.000000      94.000000       0.000000  \n",
       "50%             2.000000             10.000000      94.000000       0.000000  \n",
       "75%             2.000000             52.000000      95.000000       0.000000  \n",
       "max             2.000000             52.000000      95.000000       1.000000  "
      ]
     },
     "execution_count": 11,
     "metadata": {},
     "output_type": "execute_result"
    }
   ],
   "source": [
    "census_income.describe()"
   ]
  },
  {
   "cell_type": "code",
   "execution_count": 12,
   "id": "df0cd5fd",
   "metadata": {},
   "outputs": [
    {
     "data": {
      "text/html": [
       "<div>\n",
       "<style scoped>\n",
       "    .dataframe tbody tr th:only-of-type {\n",
       "        vertical-align: middle;\n",
       "    }\n",
       "\n",
       "    .dataframe tbody tr th {\n",
       "        vertical-align: top;\n",
       "    }\n",
       "\n",
       "    .dataframe thead th {\n",
       "        text-align: right;\n",
       "    }\n",
       "</style>\n",
       "<table border=\"1\" class=\"dataframe\">\n",
       "  <thead>\n",
       "    <tr style=\"text-align: right;\">\n",
       "      <th></th>\n",
       "      <th>Age</th>\n",
       "      <th>Yearly brutto salary (without bonus and stocks) in EUR</th>\n",
       "      <th>Annual brutto salary (without bonus and stocks) one year ago. Only answer if staying in the same country</th>\n",
       "      <th>Have you been forced to have a shorter working week (Kurzarbeit)? If yes, how many hours per week</th>\n",
       "    </tr>\n",
       "  </thead>\n",
       "  <tbody>\n",
       "    <tr>\n",
       "      <th>count</th>\n",
       "      <td>1226.000000</td>\n",
       "      <td>1.253000e+03</td>\n",
       "      <td>8.850000e+02</td>\n",
       "      <td>373.000000</td>\n",
       "    </tr>\n",
       "    <tr>\n",
       "      <th>mean</th>\n",
       "      <td>32.509788</td>\n",
       "      <td>8.027904e+07</td>\n",
       "      <td>6.322459e+05</td>\n",
       "      <td>12.967828</td>\n",
       "    </tr>\n",
       "    <tr>\n",
       "      <th>std</th>\n",
       "      <td>5.663804</td>\n",
       "      <td>2.825061e+09</td>\n",
       "      <td>1.680508e+07</td>\n",
       "      <td>15.275174</td>\n",
       "    </tr>\n",
       "    <tr>\n",
       "      <th>min</th>\n",
       "      <td>20.000000</td>\n",
       "      <td>1.000100e+04</td>\n",
       "      <td>1.100000e+04</td>\n",
       "      <td>0.000000</td>\n",
       "    </tr>\n",
       "    <tr>\n",
       "      <th>25%</th>\n",
       "      <td>29.000000</td>\n",
       "      <td>5.880000e+04</td>\n",
       "      <td>5.500000e+04</td>\n",
       "      <td>0.000000</td>\n",
       "    </tr>\n",
       "    <tr>\n",
       "      <th>50%</th>\n",
       "      <td>32.000000</td>\n",
       "      <td>7.000000e+04</td>\n",
       "      <td>6.500000e+04</td>\n",
       "      <td>0.000000</td>\n",
       "    </tr>\n",
       "    <tr>\n",
       "      <th>75%</th>\n",
       "      <td>35.000000</td>\n",
       "      <td>8.000000e+04</td>\n",
       "      <td>7.500000e+04</td>\n",
       "      <td>30.000000</td>\n",
       "    </tr>\n",
       "    <tr>\n",
       "      <th>max</th>\n",
       "      <td>69.000000</td>\n",
       "      <td>1.000000e+11</td>\n",
       "      <td>5.000000e+08</td>\n",
       "      <td>40.000000</td>\n",
       "    </tr>\n",
       "  </tbody>\n",
       "</table>\n",
       "</div>"
      ],
      "text/plain": [
       "               Age  Yearly brutto salary (without bonus and stocks) in EUR  \\\n",
       "count  1226.000000                                       1.253000e+03        \n",
       "mean     32.509788                                       8.027904e+07        \n",
       "std       5.663804                                       2.825061e+09        \n",
       "min      20.000000                                       1.000100e+04        \n",
       "25%      29.000000                                       5.880000e+04        \n",
       "50%      32.000000                                       7.000000e+04        \n",
       "75%      35.000000                                       8.000000e+04        \n",
       "max      69.000000                                       1.000000e+11        \n",
       "\n",
       "       Annual brutto salary (without bonus and stocks) one year ago. Only answer if staying in the same country  \\\n",
       "count                                       8.850000e+02                                                          \n",
       "mean                                        6.322459e+05                                                          \n",
       "std                                         1.680508e+07                                                          \n",
       "min                                         1.100000e+04                                                          \n",
       "25%                                         5.500000e+04                                                          \n",
       "50%                                         6.500000e+04                                                          \n",
       "75%                                         7.500000e+04                                                          \n",
       "max                                         5.000000e+08                                                          \n",
       "\n",
       "       Have you been forced to have a shorter working week (Kurzarbeit)? If yes, how many hours per week  \n",
       "count                                         373.000000                                                  \n",
       "mean                                           12.967828                                                  \n",
       "std                                            15.275174                                                  \n",
       "min                                             0.000000                                                  \n",
       "25%                                             0.000000                                                  \n",
       "50%                                             0.000000                                                  \n",
       "75%                                            30.000000                                                  \n",
       "max                                            40.000000                                                  "
      ]
     },
     "execution_count": 12,
     "metadata": {},
     "output_type": "execute_result"
    }
   ],
   "source": [
    "it_salary_2020.describe()"
   ]
  },
  {
   "cell_type": "code",
   "execution_count": 13,
   "id": "a4f9b481",
   "metadata": {},
   "outputs": [
    {
     "data": {
      "text/html": [
       "<div>\n",
       "<style scoped>\n",
       "    .dataframe tbody tr th:only-of-type {\n",
       "        vertical-align: middle;\n",
       "    }\n",
       "\n",
       "    .dataframe tbody tr th {\n",
       "        vertical-align: top;\n",
       "    }\n",
       "\n",
       "    .dataframe thead th {\n",
       "        text-align: right;\n",
       "    }\n",
       "</style>\n",
       "<table border=\"1\" class=\"dataframe\">\n",
       "  <thead>\n",
       "    <tr style=\"text-align: right;\">\n",
       "      <th></th>\n",
       "      <th>id</th>\n",
       "      <th>age</th>\n",
       "      <th>bp</th>\n",
       "      <th>sg</th>\n",
       "      <th>al</th>\n",
       "      <th>su</th>\n",
       "      <th>bgr</th>\n",
       "      <th>bu</th>\n",
       "      <th>sc</th>\n",
       "      <th>sod</th>\n",
       "      <th>pot</th>\n",
       "      <th>hemo</th>\n",
       "    </tr>\n",
       "  </thead>\n",
       "  <tbody>\n",
       "    <tr>\n",
       "      <th>count</th>\n",
       "      <td>400.000000</td>\n",
       "      <td>391.000000</td>\n",
       "      <td>388.000000</td>\n",
       "      <td>353.000000</td>\n",
       "      <td>354.000000</td>\n",
       "      <td>351.000000</td>\n",
       "      <td>356.000000</td>\n",
       "      <td>381.000000</td>\n",
       "      <td>383.000000</td>\n",
       "      <td>313.000000</td>\n",
       "      <td>312.000000</td>\n",
       "      <td>348.000000</td>\n",
       "    </tr>\n",
       "    <tr>\n",
       "      <th>mean</th>\n",
       "      <td>199.500000</td>\n",
       "      <td>51.483376</td>\n",
       "      <td>76.469072</td>\n",
       "      <td>1.017408</td>\n",
       "      <td>1.016949</td>\n",
       "      <td>0.450142</td>\n",
       "      <td>148.036517</td>\n",
       "      <td>57.425722</td>\n",
       "      <td>3.072454</td>\n",
       "      <td>137.528754</td>\n",
       "      <td>4.627244</td>\n",
       "      <td>12.526437</td>\n",
       "    </tr>\n",
       "    <tr>\n",
       "      <th>std</th>\n",
       "      <td>115.614301</td>\n",
       "      <td>17.169714</td>\n",
       "      <td>13.683637</td>\n",
       "      <td>0.005717</td>\n",
       "      <td>1.352679</td>\n",
       "      <td>1.099191</td>\n",
       "      <td>79.281714</td>\n",
       "      <td>50.503006</td>\n",
       "      <td>5.741126</td>\n",
       "      <td>10.408752</td>\n",
       "      <td>3.193904</td>\n",
       "      <td>2.912587</td>\n",
       "    </tr>\n",
       "    <tr>\n",
       "      <th>min</th>\n",
       "      <td>0.000000</td>\n",
       "      <td>2.000000</td>\n",
       "      <td>50.000000</td>\n",
       "      <td>1.005000</td>\n",
       "      <td>0.000000</td>\n",
       "      <td>0.000000</td>\n",
       "      <td>22.000000</td>\n",
       "      <td>1.500000</td>\n",
       "      <td>0.400000</td>\n",
       "      <td>4.500000</td>\n",
       "      <td>2.500000</td>\n",
       "      <td>3.100000</td>\n",
       "    </tr>\n",
       "    <tr>\n",
       "      <th>25%</th>\n",
       "      <td>99.750000</td>\n",
       "      <td>42.000000</td>\n",
       "      <td>70.000000</td>\n",
       "      <td>1.010000</td>\n",
       "      <td>0.000000</td>\n",
       "      <td>0.000000</td>\n",
       "      <td>99.000000</td>\n",
       "      <td>27.000000</td>\n",
       "      <td>0.900000</td>\n",
       "      <td>135.000000</td>\n",
       "      <td>3.800000</td>\n",
       "      <td>10.300000</td>\n",
       "    </tr>\n",
       "    <tr>\n",
       "      <th>50%</th>\n",
       "      <td>199.500000</td>\n",
       "      <td>55.000000</td>\n",
       "      <td>80.000000</td>\n",
       "      <td>1.020000</td>\n",
       "      <td>0.000000</td>\n",
       "      <td>0.000000</td>\n",
       "      <td>121.000000</td>\n",
       "      <td>42.000000</td>\n",
       "      <td>1.300000</td>\n",
       "      <td>138.000000</td>\n",
       "      <td>4.400000</td>\n",
       "      <td>12.650000</td>\n",
       "    </tr>\n",
       "    <tr>\n",
       "      <th>75%</th>\n",
       "      <td>299.250000</td>\n",
       "      <td>64.500000</td>\n",
       "      <td>80.000000</td>\n",
       "      <td>1.020000</td>\n",
       "      <td>2.000000</td>\n",
       "      <td>0.000000</td>\n",
       "      <td>163.000000</td>\n",
       "      <td>66.000000</td>\n",
       "      <td>2.800000</td>\n",
       "      <td>142.000000</td>\n",
       "      <td>4.900000</td>\n",
       "      <td>15.000000</td>\n",
       "    </tr>\n",
       "    <tr>\n",
       "      <th>max</th>\n",
       "      <td>399.000000</td>\n",
       "      <td>90.000000</td>\n",
       "      <td>180.000000</td>\n",
       "      <td>1.025000</td>\n",
       "      <td>5.000000</td>\n",
       "      <td>5.000000</td>\n",
       "      <td>490.000000</td>\n",
       "      <td>391.000000</td>\n",
       "      <td>76.000000</td>\n",
       "      <td>163.000000</td>\n",
       "      <td>47.000000</td>\n",
       "      <td>17.800000</td>\n",
       "    </tr>\n",
       "  </tbody>\n",
       "</table>\n",
       "</div>"
      ],
      "text/plain": [
       "               id         age          bp          sg          al          su  \\\n",
       "count  400.000000  391.000000  388.000000  353.000000  354.000000  351.000000   \n",
       "mean   199.500000   51.483376   76.469072    1.017408    1.016949    0.450142   \n",
       "std    115.614301   17.169714   13.683637    0.005717    1.352679    1.099191   \n",
       "min      0.000000    2.000000   50.000000    1.005000    0.000000    0.000000   \n",
       "25%     99.750000   42.000000   70.000000    1.010000    0.000000    0.000000   \n",
       "50%    199.500000   55.000000   80.000000    1.020000    0.000000    0.000000   \n",
       "75%    299.250000   64.500000   80.000000    1.020000    2.000000    0.000000   \n",
       "max    399.000000   90.000000  180.000000    1.025000    5.000000    5.000000   \n",
       "\n",
       "              bgr          bu          sc         sod         pot        hemo  \n",
       "count  356.000000  381.000000  383.000000  313.000000  312.000000  348.000000  \n",
       "mean   148.036517   57.425722    3.072454  137.528754    4.627244   12.526437  \n",
       "std     79.281714   50.503006    5.741126   10.408752    3.193904    2.912587  \n",
       "min     22.000000    1.500000    0.400000    4.500000    2.500000    3.100000  \n",
       "25%     99.000000   27.000000    0.900000  135.000000    3.800000   10.300000  \n",
       "50%    121.000000   42.000000    1.300000  138.000000    4.400000   12.650000  \n",
       "75%    163.000000   66.000000    2.800000  142.000000    4.900000   15.000000  \n",
       "max    490.000000  391.000000   76.000000  163.000000   47.000000   17.800000  "
      ]
     },
     "execution_count": 13,
     "metadata": {},
     "output_type": "execute_result"
    }
   ],
   "source": [
    "csk.describe()"
   ]
  },
  {
   "attachments": {},
   "cell_type": "markdown",
   "id": "af9ad863",
   "metadata": {},
   "source": [
    "### Some research about *Census income*\n",
    "Try to compare between adults people that contribute to the state between retired that capital gains are less than 21% of mean and young people (until 18 years old). "
   ]
  },
  {
   "cell_type": "code",
   "execution_count": 14,
   "id": "23a2ab07",
   "metadata": {},
   "outputs": [
    {
     "name": "stdout",
     "output_type": "stream",
     "text": [
      "census_retired:\t\t22633\n",
      "census_young:\t\t57658\n",
      "census_productive_ages:\t119709\n",
      "Check counting:200000\n"
     ]
    }
   ],
   "source": [
    "census_retired = census_income[census_income['age']>65]\n",
    "census_young = census_income[census_income['age']<19]\n",
    "\n",
    "census_adults = census_income[18<census_income['age']]\n",
    "census_productive_ages = census_adults[census_adults['age']<66]\n",
    "print(f\"census_retired:\\t\\t{len(census_retired)}\")\n",
    "print(f\"census_young:\\t\\t{len(census_young)}\")\n",
    "print(f\"census_productive_ages:\\t{len(census_productive_ages)}\")\n",
    "print(f\"Check counting:{len(census_retired)+len(census_young)+len(census_productive_ages)}\")"
   ]
  },
  {
   "cell_type": "code",
   "execution_count": 15,
   "id": "517f2c87",
   "metadata": {},
   "outputs": [
    {
     "name": "stdout",
     "output_type": "stream",
     "text": [
      "Retired people that the capital gains are less than 21% of mean are: 21130. They should't contributs.\n"
     ]
    }
   ],
   "source": [
    "retired_no_contributs = 0.21\n",
    "census_retired_low_capital = census_retired[census_retired[\"capital_gains\"]<(retired_no_contributs*census_income[\"capital_gains\"].mean())]\n",
    "print(f\"Retired people that the capital gains are less than 21% of mean are: {len(census_retired_low_capital)}. They should't contributs.\")"
   ]
  },
  {
   "cell_type": "code",
   "execution_count": 16,
   "id": "0d6f5c44",
   "metadata": {},
   "outputs": [
    {
     "name": "stdout",
     "output_type": "stream",
     "text": [
      "There are 60.61% of contributors in populations\n"
     ]
    }
   ],
   "source": [
    "contributors = len(census_productive_ages)+len(census_retired)-len(census_retired_low_capital)\n",
    "print(f\"There are {round(contributors*100/len(census_income),2)}% of contributors in populations\")"
   ]
  },
  {
   "attachments": {},
   "cell_type": "markdown",
   "id": "81917298",
   "metadata": {},
   "source": [
    "### Some research about *IT salary in the year 2020*\n",
    "Try to figure out the worst payment IT jobs in the year 2020. Also, how much they pay it.<br />\n",
    "I considered the worst payment IT jobs for those people that are 3 sigma below from mean salaries."
   ]
  },
  {
   "cell_type": "code",
   "execution_count": 17,
   "id": "549027e4",
   "metadata": {},
   "outputs": [],
   "source": [
    "#year_salary_no_bonus = it_salary_2020['Yearly brutto salary (without bonus and stocks) in EUR'].replace(np.nan, 0)\n",
    "#year_bonus           = it_salary_2020['Yearly bonus + stocks in EUR'].replace(np.nan, 0)\n",
    "year_salary_index    = ['Yearly brutto salary (without bonus and stocks) in EUR', 'Yearly bonus + stocks in EUR']"
   ]
  },
  {
   "cell_type": "code",
   "execution_count": 18,
   "id": "eaf69b12",
   "metadata": {},
   "outputs": [
    {
     "name": "stdout",
     "output_type": "stream",
     "text": [
      "<class 'pandas.core.frame.DataFrame'>\n",
      "RangeIndex: 1253 entries, 0 to 1252\n",
      "Data columns (total 2 columns):\n",
      " #   Column                                                  Non-Null Count  Dtype  \n",
      "---  ------                                                  --------------  -----  \n",
      " 0   Yearly brutto salary (without bonus and stocks) in EUR  1253 non-null   float64\n",
      " 1   Yearly bonus + stocks in EUR                            829 non-null    object \n",
      "dtypes: float64(1), object(1)\n",
      "memory usage: 19.7+ KB\n",
      "None\n"
     ]
    }
   ],
   "source": [
    "year_salary_detail = it_salary_2020[year_salary_index]\n",
    "print(year_salary_detail.info())"
   ]
  },
  {
   "cell_type": "code",
   "execution_count": 19,
   "id": "679d92af",
   "metadata": {},
   "outputs": [
    {
     "name": "stdout",
     "output_type": "stream",
     "text": [
      "<class 'pandas.core.frame.DataFrame'>\n",
      "RangeIndex: 1253 entries, 0 to 1252\n",
      "Data columns (total 2 columns):\n",
      " #   Column                                                  Non-Null Count  Dtype  \n",
      "---  ------                                                  --------------  -----  \n",
      " 0   Yearly brutto salary (without bonus and stocks) in EUR  1253 non-null   float64\n",
      " 1   Yearly bonus + stocks in EUR                            823 non-null    float64\n",
      "dtypes: float64(2)\n",
      "memory usage: 19.7 KB\n",
      "None\n"
     ]
    },
    {
     "name": "stderr",
     "output_type": "stream",
     "text": [
      "C:\\Users\\leeca\\AppData\\Local\\Temp\\ipykernel_30260\\1114512227.py:1: SettingWithCopyWarning: \n",
      "A value is trying to be set on a copy of a slice from a DataFrame.\n",
      "Try using .loc[row_indexer,col_indexer] = value instead\n",
      "\n",
      "See the caveats in the documentation: https://pandas.pydata.org/pandas-docs/stable/user_guide/indexing.html#returning-a-view-versus-a-copy\n",
      "  year_salary_detail[year_salary_index[1]] = pd.to_numeric(year_salary_detail[year_salary_index[1]],errors='coerce')\n"
     ]
    }
   ],
   "source": [
    "year_salary_detail[year_salary_index[1]] = pd.to_numeric(year_salary_detail[year_salary_index[1]],errors='coerce')\n",
    "print(year_salary_detail.info())"
   ]
  },
  {
   "cell_type": "code",
   "execution_count": 20,
   "id": "64878c31",
   "metadata": {},
   "outputs": [],
   "source": [
    "year_salary_detail = year_salary_detail.replace(np.nan, 0)\n",
    "year_salary        = year_salary_detail.sum(axis=1)"
   ]
  },
  {
   "cell_type": "code",
   "execution_count": 21,
   "id": "33ee487b",
   "metadata": {},
   "outputs": [
    {
     "data": {
      "text/plain": [
       "count    1.253000e+03\n",
       "mean     8.428361e+07\n",
       "std      2.829182e+09\n",
       "min      1.000100e+04\n",
       "25%      6.000000e+04\n",
       "50%      7.400000e+04\n",
       "75%      9.100000e+04\n",
       "max      1.000000e+11\n",
       "dtype: float64"
      ]
     },
     "execution_count": 21,
     "metadata": {},
     "output_type": "execute_result"
    }
   ],
   "source": [
    "year_salary.describe()"
   ]
  },
  {
   "cell_type": "code",
   "execution_count": 22,
   "id": "201e451e",
   "metadata": {},
   "outputs": [],
   "source": [
    "year_salary_np = year_salary.to_numpy()"
   ]
  },
  {
   "cell_type": "code",
   "execution_count": 23,
   "id": "9445b014",
   "metadata": {},
   "outputs": [
    {
     "name": "stdout",
     "output_type": "stream",
     "text": [
      "84283611.13693535\n",
      "2828053095.7816143\n"
     ]
    }
   ],
   "source": [
    "print(year_salary_np.mean())\n",
    "print(year_salary_np.std())"
   ]
  },
  {
   "attachments": {},
   "cell_type": "markdown",
   "id": "2bf9ac05",
   "metadata": {},
   "source": [
    "As we can see that standard deviation are larger than mean. It is mean that the salaries are scattered.<br />\n",
    "Hence, I am going to select the 10% of the salary that it gived data frame quantile."
   ]
  },
  {
   "cell_type": "code",
   "execution_count": 44,
   "id": "373e7a37",
   "metadata": {},
   "outputs": [
    {
     "name": "stdout",
     "output_type": "stream",
     "text": [
      "Software Engineer                           25\n",
      "Backend Developer                           17\n",
      "Frontend Developer                          12\n",
      "Data Scientist                              11\n",
      "QA Engineer                                  8\n",
      "ML Engineer                                  7\n",
      "Designer (UI/UX)                             6\n",
      "Mobile Developer                             3\n",
      "Product Manager                              2\n",
      "Project Manager                              2\n",
      "DevOps                                       2\n",
      "Beikoch                                      1\n",
      "computer vision researcher                   1\n",
      "QA Manager                                   1\n",
      "XR Developer                                 1\n",
      "BI Analyst                                   1\n",
      "Robotics Engineer                            1\n",
      "Data Engineer                                1\n",
      "DatabEngineer                                1\n",
      "Application Consultant                       1\n",
      "Data Analyst                                 1\n",
      "Tech recruiting                              1\n",
      "Analyst                                      1\n",
      "Test manager                                 1\n",
      "working student (QA)                         1\n",
      "Dana Analyst                                 1\n",
      "Researcher                                   1\n",
      "HiWi                                         1\n",
      "Systemadministrator                          1\n",
      "Graphic Designer                             1\n",
      "Consultant Data Analytics                    1\n",
      "C/C++/Java developer                         1\n",
      "Firmware Engineer                            1\n",
      "System Administrator                         1\n",
      "Fullstack Developer                          1\n",
      "Business Development Manager Operations      1\n",
      "Name: Position , dtype: int64\n"
     ]
    }
   ],
   "source": [
    "low_salary = year_salary.quantile(0.10)\n",
    "job_position_worst_paid = it_salary_2020[year_salary<low_salary]['Position '].value_counts()\n",
    "print(job_position_worst_paid)"
   ]
  },
  {
   "cell_type": "code",
   "execution_count": null,
   "id": "e06dcd40",
   "metadata": {},
   "outputs": [],
   "source": []
  }
 ],
 "metadata": {
  "kernelspec": {
   "display_name": "Python 3 (ipykernel)",
   "language": "python",
   "name": "python3"
  },
  "language_info": {
   "codemirror_mode": {
    "name": "ipython",
    "version": 3
   },
   "file_extension": ".py",
   "mimetype": "text/x-python",
   "name": "python",
   "nbconvert_exporter": "python",
   "pygments_lexer": "ipython3",
   "version": "3.10.9"
  }
 },
 "nbformat": 4,
 "nbformat_minor": 5
}
